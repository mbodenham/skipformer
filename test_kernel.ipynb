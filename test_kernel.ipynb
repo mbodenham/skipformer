{
 "cells": [
  {
   "cell_type": "markdown",
   "id": "ede33e12",
   "metadata": {},
   "source": [
    "# Tests and Figures for Attention Window Size CUDA Kernel"
   ]
  },
  {
   "cell_type": "code",
   "execution_count": 1,
   "id": "12572c64",
   "metadata": {},
   "outputs": [
    {
     "name": "stdout",
     "output_type": "stream",
     "text": [
      "Detected CUDA files, patching ldflags\n",
      "Emitting ninja build file /home/mbodenham/github/skipformer/skipformer/attention_window_cuda/build/build.ninja...\n",
      "Building extension module attention_window_matmul...\n",
      "Allowing ninja to set a default number of workers... (overridable by setting the environment variable MAX_JOBS=N)\n",
      "Loading extension module attention_window_matmul...\n"
     ]
    }
   ],
   "source": [
    "import matplotlib.pyplot as plt\n",
    "import numpy as np\n",
    "import pandas\n",
    "import torch\n",
    "\n",
    "from skipformer.attention_window_cuda import awmm_cuda\n",
    "from scipy import stats\n",
    "from tqdm import tqdm\n",
    "from torch.utils.cpp_extension import load"
   ]
  },
  {
   "cell_type": "code",
   "execution_count": 2,
   "id": "beb35979",
   "metadata": {},
   "outputs": [
    {
     "name": "stdout",
     "output_type": "stream",
     "text": [
      "Detected CUDA files, patching ldflags\n",
      "Emitting ninja build file skipformer/attention_window_cuda/build/build.ninja...\n",
      "Building extension module attention_window_matmul_no_wm...\n",
      "Allowing ninja to set a default number of workers... (overridable by setting the environment variable MAX_JOBS=N)\n",
      "Loading extension module attention_window_matmul_no_wm...\n"
     ]
    }
   ],
   "source": [
    "awmm_no_wm_cuda = load(name='attention_window_matmul_no_wm',\n",
    "                 sources=['skipformer/attention_window_cuda/attention_window_matmul.cpp',\n",
    "                          'skipformer/attention_window_cuda/attention_window_matmul_no_wm_kernel.cu',],\n",
    "                 build_directory='skipformer/attention_window_cuda/build',\n",
    "                 verbose=True)"
   ]
  },
  {
   "cell_type": "markdown",
   "id": "c6db736b",
   "metadata": {},
   "source": [
    "## Test Latency"
   ]
  },
  {
   "cell_type": "code",
   "execution_count": 3,
   "id": "cd955e84",
   "metadata": {},
   "outputs": [
    {
     "data": {
      "text/plain": [
       "{'window_size': 16,\n",
       " 'torch.matmul': 13.723126411437988,\n",
       " 'custom masked': 9.456411361694336,\n",
       " 'custom not masked': 10.857765197753906}"
      ]
     },
     "execution_count": 3,
     "metadata": {},
     "output_type": "execute_result"
    }
   ],
   "source": [
    "def mean_times(times):\n",
    "    z_score = stats.zscore(times)\n",
    "    times = times[(-3<z_score) & (z_score<3)]\n",
    "    return times.mean()\n",
    "\n",
    "def time_matmul(batch_sz, n_heads, N, d_model, ws=16, repetitions=1, passes=1, device=torch.device('cuda'), verbose=False):\n",
    "\n",
    "    d_k = d_model // n_heads \n",
    "    q = torch.rand([batch_sz, n_heads, N, d_k], device=device, dtype=torch.float)\n",
    "    k_t = torch.rand([batch_sz, n_heads, d_k, N], device=device, dtype=torch.float)\n",
    "    wm = torch.ones([N, N], device=device, dtype=torch.float)\n",
    "    ws_ = torch.tensor([ws]*n_heads, device=device, dtype=torch.float)\n",
    "\n",
    "    for i in range(repetitions//10):\n",
    "        qk_t = torch.matmul(q, k_t)\n",
    "\n",
    "\n",
    "    time_torch = np.zeros(passes)\n",
    "    time_custom = np.zeros(passes)\n",
    "    time_custom_no_mask = np.zeros(passes)\n",
    "    for p in range(passes):\n",
    "        with torch.cuda.device(device):\n",
    "            with torch.no_grad():\n",
    "                torch.backends.cudnn.benchmark = True\n",
    "\n",
    "                starter, ender = torch.cuda.Event(enable_timing=True), torch.cuda.Event(enable_timing=True)\n",
    "                timings = torch.zeros(repetitions, device=device)\n",
    "\n",
    "                for rep in tqdm(range(repetitions), desc='torch.matmul', disable=not verbose):\n",
    "                    starter.record(torch.cuda.current_stream(device))\n",
    "                    qk_t = torch.matmul(q, k_t)\n",
    "                    ender.record(torch.cuda.current_stream(device))\n",
    "\n",
    "                    torch.cuda.synchronize(device)\n",
    "\n",
    "                    timings[rep] = starter.elapsed_time(ender)\n",
    "                    starter.elapsed_time(ender)\n",
    "\n",
    "\n",
    "                time_torch[p] = mean_times(timings.cpu().detach().numpy())\n",
    "\n",
    "                \n",
    "                starter, ender = torch.cuda.Event(enable_timing=True), torch.cuda.Event(enable_timing=True)\n",
    "                timings = torch.zeros(repetitions, device=device)\n",
    "\n",
    "                for rep in tqdm(range(repetitions), desc='custom', disable=not verbose):\n",
    "                    starter.record(torch.cuda.current_stream(device))\n",
    "            \n",
    "                    qk_t = awmm_no_wm_cuda.forward(q, k_t, ws_, wm, True)\n",
    "                    ender.record(torch.cuda.current_stream(device))\n",
    "\n",
    "                    torch.cuda.synchronize(device)\n",
    "\n",
    "                    timings[rep] = starter.elapsed_time(ender)\n",
    "                    starter.elapsed_time(ender)\n",
    "\n",
    "                time_custom[p] = mean_times(timings.cpu().detach().numpy())\n",
    "                \n",
    "                \n",
    "                starter, ender = torch.cuda.Event(enable_timing=True), torch.cuda.Event(enable_timing=True)\n",
    "                timings = torch.zeros(repetitions, device=device)\n",
    "\n",
    "                for rep in tqdm(range(repetitions), desc='custom', disable=not verbose):\n",
    "                    starter.record(torch.cuda.current_stream(device))\n",
    "            \n",
    "                    qk_t = awmm_no_wm_cuda.forward(q, k_t, ws_, wm, False)\n",
    "                    ender.record(torch.cuda.current_stream(device))\n",
    "\n",
    "                    torch.cuda.synchronize(device)\n",
    "\n",
    "                    timings[rep] = starter.elapsed_time(ender)\n",
    "                    starter.elapsed_time(ender)\n",
    "\n",
    "                time_custom_no_mask[p] = mean_times(timings.cpu().detach().numpy())\n",
    "        \n",
    "\n",
    "    \n",
    "    return {'window_size': ws, \n",
    "            'torch.matmul': time_torch.mean(), \n",
    "            'custom masked': time_custom.mean(), \n",
    "            'custom not masked': time_custom_no_mask.mean()}\n",
    "\n",
    "  \n",
    "time_matmul(1, 12, 512, 64, ws=16, repetitions=10)"
   ]
  },
  {
   "cell_type": "code",
   "execution_count": 4,
   "id": "9a251110",
   "metadata": {},
   "outputs": [
    {
     "name": "stderr",
     "output_type": "stream",
     "text": [
      "100%|██████████| 18/18 [04:45<00:00, 15.86s/it]\n"
     ]
    },
    {
     "data": {
      "text/html": [
       "<div>\n",
       "<style scoped>\n",
       "    .dataframe tbody tr th:only-of-type {\n",
       "        vertical-align: middle;\n",
       "    }\n",
       "\n",
       "    .dataframe tbody tr th {\n",
       "        vertical-align: top;\n",
       "    }\n",
       "\n",
       "    .dataframe thead th {\n",
       "        text-align: right;\n",
       "    }\n",
       "</style>\n",
       "<table border=\"1\" class=\"dataframe\">\n",
       "  <thead>\n",
       "    <tr style=\"text-align: right;\">\n",
       "      <th></th>\n",
       "      <th>torch.matmul</th>\n",
       "      <th>custom masked</th>\n",
       "      <th>custom not masked</th>\n",
       "    </tr>\n",
       "    <tr>\n",
       "      <th>window_size</th>\n",
       "      <th></th>\n",
       "      <th></th>\n",
       "      <th></th>\n",
       "    </tr>\n",
       "  </thead>\n",
       "  <tbody>\n",
       "    <tr>\n",
       "      <th>4</th>\n",
       "      <td>12.051633</td>\n",
       "      <td>6.595927</td>\n",
       "      <td>8.234614</td>\n",
       "    </tr>\n",
       "    <tr>\n",
       "      <th>8</th>\n",
       "      <td>12.086092</td>\n",
       "      <td>6.585763</td>\n",
       "      <td>8.260004</td>\n",
       "    </tr>\n",
       "    <tr>\n",
       "      <th>16</th>\n",
       "      <td>12.095052</td>\n",
       "      <td>6.642622</td>\n",
       "      <td>8.229184</td>\n",
       "    </tr>\n",
       "    <tr>\n",
       "      <th>32</th>\n",
       "      <td>12.126997</td>\n",
       "      <td>6.569517</td>\n",
       "      <td>8.034803</td>\n",
       "    </tr>\n",
       "    <tr>\n",
       "      <th>64</th>\n",
       "      <td>12.146460</td>\n",
       "      <td>6.542494</td>\n",
       "      <td>8.091249</td>\n",
       "    </tr>\n",
       "    <tr>\n",
       "      <th>80</th>\n",
       "      <td>12.172118</td>\n",
       "      <td>6.869619</td>\n",
       "      <td>8.663265</td>\n",
       "    </tr>\n",
       "    <tr>\n",
       "      <th>96</th>\n",
       "      <td>12.128233</td>\n",
       "      <td>6.855038</td>\n",
       "      <td>8.740254</td>\n",
       "    </tr>\n",
       "    <tr>\n",
       "      <th>112</th>\n",
       "      <td>12.173432</td>\n",
       "      <td>6.884517</td>\n",
       "      <td>8.780908</td>\n",
       "    </tr>\n",
       "    <tr>\n",
       "      <th>128</th>\n",
       "      <td>12.117301</td>\n",
       "      <td>6.878726</td>\n",
       "      <td>8.741269</td>\n",
       "    </tr>\n",
       "    <tr>\n",
       "      <th>160</th>\n",
       "      <td>12.172333</td>\n",
       "      <td>8.279303</td>\n",
       "      <td>11.262289</td>\n",
       "    </tr>\n",
       "    <tr>\n",
       "      <th>192</th>\n",
       "      <td>12.157139</td>\n",
       "      <td>8.245325</td>\n",
       "      <td>11.223439</td>\n",
       "    </tr>\n",
       "    <tr>\n",
       "      <th>256</th>\n",
       "      <td>12.075738</td>\n",
       "      <td>8.581478</td>\n",
       "      <td>11.697217</td>\n",
       "    </tr>\n",
       "    <tr>\n",
       "      <th>384</th>\n",
       "      <td>12.160875</td>\n",
       "      <td>9.796783</td>\n",
       "      <td>14.123272</td>\n",
       "    </tr>\n",
       "    <tr>\n",
       "      <th>512</th>\n",
       "      <td>12.182152</td>\n",
       "      <td>10.755659</td>\n",
       "      <td>16.054302</td>\n",
       "    </tr>\n",
       "    <tr>\n",
       "      <th>640</th>\n",
       "      <td>12.192563</td>\n",
       "      <td>11.457008</td>\n",
       "      <td>17.753059</td>\n",
       "    </tr>\n",
       "    <tr>\n",
       "      <th>768</th>\n",
       "      <td>12.132469</td>\n",
       "      <td>11.936622</td>\n",
       "      <td>18.587570</td>\n",
       "    </tr>\n",
       "    <tr>\n",
       "      <th>896</th>\n",
       "      <td>12.189720</td>\n",
       "      <td>12.178054</td>\n",
       "      <td>19.228327</td>\n",
       "    </tr>\n",
       "    <tr>\n",
       "      <th>1024</th>\n",
       "      <td>12.165728</td>\n",
       "      <td>12.184032</td>\n",
       "      <td>18.991596</td>\n",
       "    </tr>\n",
       "  </tbody>\n",
       "</table>\n",
       "</div>"
      ],
      "text/plain": [
       "             torch.matmul  custom masked  custom not masked\n",
       "window_size                                                \n",
       "4               12.051633       6.595927           8.234614\n",
       "8               12.086092       6.585763           8.260004\n",
       "16              12.095052       6.642622           8.229184\n",
       "32              12.126997       6.569517           8.034803\n",
       "64              12.146460       6.542494           8.091249\n",
       "80              12.172118       6.869619           8.663265\n",
       "96              12.128233       6.855038           8.740254\n",
       "112             12.173432       6.884517           8.780908\n",
       "128             12.117301       6.878726           8.741269\n",
       "160             12.172333       8.279303          11.262289\n",
       "192             12.157139       8.245325          11.223439\n",
       "256             12.075738       8.581478          11.697217\n",
       "384             12.160875       9.796783          14.123272\n",
       "512             12.182152      10.755659          16.054302\n",
       "640             12.192563      11.457008          17.753059\n",
       "768             12.132469      11.936622          18.587570\n",
       "896             12.189720      12.178054          19.228327\n",
       "1024            12.165728      12.184032          18.991596"
      ]
     },
     "execution_count": 4,
     "metadata": {},
     "output_type": "execute_result"
    }
   ],
   "source": [
    "N = 1024\n",
    "n_heads = 12\n",
    "d_model = 768\n",
    "d_k = d_model // n_heads \n",
    "batch_sz = 1\n",
    "device = torch.device(\"cuda:0\")\n",
    "\n",
    "window_sizes = [2**i for i in range(2,11)] + [2**i+(2**i)//2 for i in range(6,10)] + [80, 112, 160, 640, 896]\n",
    "data = []\n",
    "for ws in tqdm(window_sizes):\n",
    "    results = time_matmul(batch_sz, n_heads, N, d_model, ws=ws, repetitions=400, passes=1, device=device)\n",
    "    data.append(results)\n",
    "    \n",
    "df = pandas.DataFrame(data).groupby('window_size').mean()\n",
    "df"
   ]
  },
  {
   "cell_type": "code",
   "execution_count": 5,
   "id": "ab486227",
   "metadata": {},
   "outputs": [
    {
     "name": "stderr",
     "output_type": "stream",
     "text": [
      "/usr/lib/python3/dist-packages/matplotlib/cbook/__init__.py:2019: FutureWarning: Support for multi-dimensional indexing (e.g. `obj[:, None]`) is deprecated and will be removed in a future version.  Convert to a numpy array before indexing instead.\n",
      "  x[:, None]\n",
      "/usr/lib/python3/dist-packages/matplotlib/axes/_base.py:251: FutureWarning: Support for multi-dimensional indexing (e.g. `obj[:, None]`) is deprecated and will be removed in a future version.  Convert to a numpy array before indexing instead.\n",
      "  y = y[:, np.newaxis]\n"
     ]
    },
    {
     "data": {
      "image/png": "[encoded data removed]",
      "text/plain": [
       "<matplotlib.figure.Figure at 0x7f21337828>"
      ]
     },
     "metadata": {
      "needs_background": "light"
     },
     "output_type": "display_data"
    }
   ],
   "source": [
    "plt.rcParams[\"font.size\"] = \"17\"\n",
    "plt.figure(figsize=(15, 6))\n",
    "\n",
    "styles={'torch.matmul': 'r--', \n",
    "        'custom masked': 'b-', \n",
    "        'custom not masked': 'b--'}\n",
    "\n",
    "for label in df.columns.values:\n",
    "    plt.plot(df.index.values,\n",
    "             df[label],\n",
    "             styles[label],\n",
    "             label=label)\n",
    "    \n",
    "plt.xlabel(\"Attention Window size\", fontsize=17)\n",
    "plt.ylabel(\"Time (ms)\", fontsize=17)\n",
    "plt.title(\"Figure 4\")\n",
    "    \n",
    "plt.xlim(4,1024)\n",
    "plt.xticks([4]+[256*i for i in range(1,5)])\n",
    "plt.ylim(4,20)\n",
    "plt.yticks([4*i for i in range(1,6)])\n",
    "plt.axhline(y=df[\"torch.matmul\"].mean(), color='red', linestyle='-', label='torch.matmul mean')\n",
    "\n",
    "plt.legend()\n",
    "plt.tight_layout()\n",
    "plt.grid()\n",
    "plt.show()"
   ]
  },
  {
   "cell_type": "markdown",
   "id": "3a5b4ce4",
   "metadata": {},
   "source": [
    "## Test Accuracy"
   ]
  },
  {
   "cell_type": "code",
   "execution_count": 6,
   "id": "3f433b4c",
   "metadata": {},
   "outputs": [],
   "source": [
    "def generate_square_subsequent_mask(src_sz: int, tgt_sz: int) -> torch.Tensor:\n",
    "    mask = (torch.triu(torch.ones(src_sz, tgt_sz)) == 1).transpose(0, 1)\n",
    "    mask = mask.float().masked_fill(mask == 0, float('-inf')).masked_fill(mask == 1, float(0.0))\n",
    "    # mask = mask.float().masked_fill(mask == 0, float('-inf')).masked_fill(mask == 1, float(0.0))\n",
    "    return mask\n",
    "\n",
    "def gen_window_mask(M, window_size, masked=True):\n",
    "    window_mask = torch.zeros(N, N, device=device)\n",
    "    if masked:\n",
    "        for i in range(N):\n",
    "            for j in range(N):\n",
    "                if i - j < window_size and i >= j:\n",
    "                    window_mask[i,j] = 1\n",
    "    else:\n",
    "        for i in range(N):\n",
    "            for j in range(N):\n",
    "                if (i - window_size) < j and j < (i + window_size):\n",
    "                    window_mask[i,j] = 1\n",
    "    return window_mask"
   ]
  },
  {
   "cell_type": "code",
   "execution_count": 7,
   "id": "f44685ba",
   "metadata": {},
   "outputs": [
    {
     "name": "stderr",
     "output_type": "stream",
     "text": [
      "100%|██████████| 128/128 [01:02<00:00,  2.04it/s]"
     ]
    },
    {
     "name": "stdout",
     "output_type": "stream",
     "text": [
      "tensor(True, device='cuda:0')\n"
     ]
    },
    {
     "name": "stderr",
     "output_type": "stream",
     "text": [
      "\n"
     ]
    }
   ],
   "source": [
    "masked = True\n",
    "N=128\n",
    "\n",
    "d_k = d_model // n_heads \n",
    "q = torch.rand([batch_sz, n_heads, N, d_k], device=device, dtype=torch.float)\n",
    "k_t = torch.rand([batch_sz, n_heads, d_k, N], device=device, dtype=torch.float)\n",
    "wm = torch.ones([N, N], device=device, dtype=torch.float)\n",
    "mask = generate_square_subsequent_mask(N, N).to(device) if masked else 0\n",
    "\n",
    "close = torch.zeros(N, device=device, dtype=torch.bool)\n",
    "for ws in tqdm(range(1, N+1)):\n",
    "    ws_ = torch.tensor([ws]*n_heads, device=device, dtype=torch.float)\n",
    "    window_mask = gen_window_mask(N, ws, masked)\n",
    "    \n",
    "    mm_out = torch.matmul(q, k_t)*window_mask+mask\n",
    "    awmm_out = awmm_no_wm_cuda.forward(q,\n",
    "                                       k_t,\n",
    "                                       ws_,\n",
    "                                       wm,\n",
    "                                       masked)+mask\n",
    "    \n",
    "    close[ws-1] = torch.allclose(mm_out, awmm_out)\n",
    "    if not close[ws-1]:\n",
    "        print(ws)\n",
    "    \n",
    "print(close.all())"
   ]
  }
 ],
 "metadata": {
  "kernelspec": {
   "display_name": "Python 3 (ipykernel)",
   "language": "python",
   "name": "python3"
  },
  "language_info": {
   "codemirror_mode": {
    "name": "ipython",
    "version": 3
   },
   "file_extension": ".py",
   "mimetype": "text/x-python",
   "name": "python",
   "nbconvert_exporter": "python",
   "pygments_lexer": "ipython3",
   "version": "3.8.0"
  }
 },
 "nbformat": 4,
 "nbformat_minor": 5
}
